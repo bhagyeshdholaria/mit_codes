{
 "cells": [
  {
   "cell_type": "code",
   "execution_count": 1,
   "metadata": {
    "_cell_guid": "b1076dfc-b9ad-4769-8c92-a6c4dae69d19",
    "_uuid": "8f2839f25d086af736a60e9eeb907d3b93b6e0e5"
   },
   "outputs": [],
   "source": [
    "# This Python 3 environment comes with many helpful analytics libraries installed\n",
    "# It is defined by the kaggle/python docker image: https://github.com/kaggle/docker-python\n",
    "# For example, here's several helpful packages to load in \n",
    "\n",
    "import numpy as np # linear algebra\n",
    "import pandas as pd # data processing, CSV file I/O (e.g. pd.read_csv)\n",
    "\n",
    "# Input data files are available in the \"../input/\" directory.\n",
    "# For example, running this (by clicking run or pressing Shift+Enter) will list all files under the input directory\n",
    "\n",
    "import os\n",
    "for dirname, _, filenames in os.walk('/kaggle/input'):\n",
    "    for filename in filenames:\n",
    "        print(os.path.join(dirname, filename))\n",
    "\n",
    "# Any results you write to the current directory are saved as output."
   ]
  },
  {
   "cell_type": "code",
   "execution_count": 2,
   "metadata": {
    "_cell_guid": "79c7e3d0-c299-4dcb-8224-4455121ee9b0",
    "_uuid": "d629ff2d2480ee46fbb7e2d37f6b5fab8052498a"
   },
   "outputs": [
    {
     "name": "stdout",
     "output_type": "stream",
     "text": [
      "Collecting apyori\r\n",
      "  Downloading https://files.pythonhosted.org/packages/5e/62/5ffde5c473ea4b033490617ec5caa80d59804875ad3c3c57c0976533a21a/apyori-1.1.2.tar.gz\r\n",
      "Building wheels for collected packages: apyori\r\n",
      "  Building wheel for apyori (setup.py) ... \u001b[?25l-\b \b\\\b \bdone\r\n",
      "\u001b[?25h  Created wheel for apyori: filename=apyori-1.1.2-cp36-none-any.whl size=5975 sha256=ca85e12ec5977f5a52185c6e13ab84c7ba69462cf5aa4a6a0a8237e61d05902a\r\n",
      "  Stored in directory: /tmp/.cache/pip/wheels/5d/92/bb/474bbadbc8c0062b9eb168f69982a0443263f8ab1711a8cad0\r\n",
      "Successfully built apyori\r\n",
      "Installing collected packages: apyori\r\n",
      "Successfully installed apyori-1.1.2\r\n"
     ]
    }
   ],
   "source": [
    "!pip install apyori"
   ]
  },
  {
   "cell_type": "code",
   "execution_count": 3,
   "metadata": {},
   "outputs": [],
   "source": [
    "from apyori import apriori"
   ]
  },
  {
   "cell_type": "code",
   "execution_count": null,
   "metadata": {},
   "outputs": [
    {
     "evalue": "Error: Jupyter server crashed. Unable to connect. \r\nError code from jupyter: 1",
     "output_type": "error"
    }
   ],
   "source": [
    "def load_dataset():\n",
    "    return [[1,3,4],[2,3,5],[1,2,3,5],[2,5]]"
   ]
  },
  {
   "cell_type": "code",
   "execution_count": 5,
   "metadata": {},
   "outputs": [],
   "source": [
    "x = load_dataset()"
   ]
  },
  {
   "cell_type": "code",
   "execution_count": 6,
   "metadata": {},
   "outputs": [
    {
     "data": {
      "text/plain": [
       "[[1, 3, 4], [2, 3, 5], [1, 2, 3, 5], [2, 5]]"
      ]
     },
     "execution_count": 6,
     "metadata": {},
     "output_type": "execute_result"
    }
   ],
   "source": [
    "x"
   ]
  },
  {
   "cell_type": "code",
   "execution_count": 7,
   "metadata": {},
   "outputs": [],
   "source": [
    "association_rules = list(apriori(x))"
   ]
  },
  {
   "cell_type": "code",
   "execution_count": 8,
   "metadata": {},
   "outputs": [
    {
     "data": {
      "text/plain": [
       "19"
      ]
     },
     "execution_count": 8,
     "metadata": {},
     "output_type": "execute_result"
    }
   ],
   "source": [
    "len(association_rules)"
   ]
  },
  {
   "cell_type": "code",
   "execution_count": 9,
   "metadata": {},
   "outputs": [
    {
     "data": {
      "text/plain": [
       "[RelationRecord(items=frozenset({1}), support=0.5, ordered_statistics=[OrderedStatistic(items_base=frozenset(), items_add=frozenset({1}), confidence=0.5, lift=1.0)]),\n",
       " RelationRecord(items=frozenset({2}), support=0.75, ordered_statistics=[OrderedStatistic(items_base=frozenset(), items_add=frozenset({2}), confidence=0.75, lift=1.0)]),\n",
       " RelationRecord(items=frozenset({3}), support=0.75, ordered_statistics=[OrderedStatistic(items_base=frozenset(), items_add=frozenset({3}), confidence=0.75, lift=1.0)]),\n",
       " RelationRecord(items=frozenset({4}), support=0.25, ordered_statistics=[OrderedStatistic(items_base=frozenset(), items_add=frozenset({4}), confidence=0.25, lift=1.0)]),\n",
       " RelationRecord(items=frozenset({5}), support=0.75, ordered_statistics=[OrderedStatistic(items_base=frozenset(), items_add=frozenset({5}), confidence=0.75, lift=1.0)]),\n",
       " RelationRecord(items=frozenset({1, 2}), support=0.25, ordered_statistics=[OrderedStatistic(items_base=frozenset(), items_add=frozenset({1, 2}), confidence=0.25, lift=1.0), OrderedStatistic(items_base=frozenset({1}), items_add=frozenset({2}), confidence=0.5, lift=0.6666666666666666), OrderedStatistic(items_base=frozenset({2}), items_add=frozenset({1}), confidence=0.3333333333333333, lift=0.6666666666666666)]),\n",
       " RelationRecord(items=frozenset({1, 3}), support=0.5, ordered_statistics=[OrderedStatistic(items_base=frozenset(), items_add=frozenset({1, 3}), confidence=0.5, lift=1.0), OrderedStatistic(items_base=frozenset({1}), items_add=frozenset({3}), confidence=1.0, lift=1.3333333333333333), OrderedStatistic(items_base=frozenset({3}), items_add=frozenset({1}), confidence=0.6666666666666666, lift=1.3333333333333333)]),\n",
       " RelationRecord(items=frozenset({1, 4}), support=0.25, ordered_statistics=[OrderedStatistic(items_base=frozenset(), items_add=frozenset({1, 4}), confidence=0.25, lift=1.0), OrderedStatistic(items_base=frozenset({1}), items_add=frozenset({4}), confidence=0.5, lift=2.0), OrderedStatistic(items_base=frozenset({4}), items_add=frozenset({1}), confidence=1.0, lift=2.0)]),\n",
       " RelationRecord(items=frozenset({1, 5}), support=0.25, ordered_statistics=[OrderedStatistic(items_base=frozenset(), items_add=frozenset({1, 5}), confidence=0.25, lift=1.0), OrderedStatistic(items_base=frozenset({1}), items_add=frozenset({5}), confidence=0.5, lift=0.6666666666666666), OrderedStatistic(items_base=frozenset({5}), items_add=frozenset({1}), confidence=0.3333333333333333, lift=0.6666666666666666)]),\n",
       " RelationRecord(items=frozenset({2, 3}), support=0.5, ordered_statistics=[OrderedStatistic(items_base=frozenset(), items_add=frozenset({2, 3}), confidence=0.5, lift=1.0), OrderedStatistic(items_base=frozenset({2}), items_add=frozenset({3}), confidence=0.6666666666666666, lift=0.8888888888888888), OrderedStatistic(items_base=frozenset({3}), items_add=frozenset({2}), confidence=0.6666666666666666, lift=0.8888888888888888)]),\n",
       " RelationRecord(items=frozenset({2, 5}), support=0.75, ordered_statistics=[OrderedStatistic(items_base=frozenset(), items_add=frozenset({2, 5}), confidence=0.75, lift=1.0), OrderedStatistic(items_base=frozenset({2}), items_add=frozenset({5}), confidence=1.0, lift=1.3333333333333333), OrderedStatistic(items_base=frozenset({5}), items_add=frozenset({2}), confidence=1.0, lift=1.3333333333333333)]),\n",
       " RelationRecord(items=frozenset({3, 4}), support=0.25, ordered_statistics=[OrderedStatistic(items_base=frozenset(), items_add=frozenset({3, 4}), confidence=0.25, lift=1.0), OrderedStatistic(items_base=frozenset({3}), items_add=frozenset({4}), confidence=0.3333333333333333, lift=1.3333333333333333), OrderedStatistic(items_base=frozenset({4}), items_add=frozenset({3}), confidence=1.0, lift=1.3333333333333333)]),\n",
       " RelationRecord(items=frozenset({3, 5}), support=0.5, ordered_statistics=[OrderedStatistic(items_base=frozenset(), items_add=frozenset({3, 5}), confidence=0.5, lift=1.0), OrderedStatistic(items_base=frozenset({3}), items_add=frozenset({5}), confidence=0.6666666666666666, lift=0.8888888888888888), OrderedStatistic(items_base=frozenset({5}), items_add=frozenset({3}), confidence=0.6666666666666666, lift=0.8888888888888888)]),\n",
       " RelationRecord(items=frozenset({1, 2, 3}), support=0.25, ordered_statistics=[OrderedStatistic(items_base=frozenset(), items_add=frozenset({1, 2, 3}), confidence=0.25, lift=1.0), OrderedStatistic(items_base=frozenset({1}), items_add=frozenset({2, 3}), confidence=0.5, lift=1.0), OrderedStatistic(items_base=frozenset({2}), items_add=frozenset({1, 3}), confidence=0.3333333333333333, lift=0.6666666666666666), OrderedStatistic(items_base=frozenset({3}), items_add=frozenset({1, 2}), confidence=0.3333333333333333, lift=1.3333333333333333), OrderedStatistic(items_base=frozenset({1, 2}), items_add=frozenset({3}), confidence=1.0, lift=1.3333333333333333), OrderedStatistic(items_base=frozenset({1, 3}), items_add=frozenset({2}), confidence=0.5, lift=0.6666666666666666), OrderedStatistic(items_base=frozenset({2, 3}), items_add=frozenset({1}), confidence=0.5, lift=1.0)]),\n",
       " RelationRecord(items=frozenset({1, 2, 5}), support=0.25, ordered_statistics=[OrderedStatistic(items_base=frozenset(), items_add=frozenset({1, 2, 5}), confidence=0.25, lift=1.0), OrderedStatistic(items_base=frozenset({1}), items_add=frozenset({2, 5}), confidence=0.5, lift=0.6666666666666666), OrderedStatistic(items_base=frozenset({2}), items_add=frozenset({1, 5}), confidence=0.3333333333333333, lift=1.3333333333333333), OrderedStatistic(items_base=frozenset({5}), items_add=frozenset({1, 2}), confidence=0.3333333333333333, lift=1.3333333333333333), OrderedStatistic(items_base=frozenset({1, 2}), items_add=frozenset({5}), confidence=1.0, lift=1.3333333333333333), OrderedStatistic(items_base=frozenset({1, 5}), items_add=frozenset({2}), confidence=1.0, lift=1.3333333333333333), OrderedStatistic(items_base=frozenset({2, 5}), items_add=frozenset({1}), confidence=0.3333333333333333, lift=0.6666666666666666)]),\n",
       " RelationRecord(items=frozenset({1, 3, 4}), support=0.25, ordered_statistics=[OrderedStatistic(items_base=frozenset(), items_add=frozenset({1, 3, 4}), confidence=0.25, lift=1.0), OrderedStatistic(items_base=frozenset({1}), items_add=frozenset({3, 4}), confidence=0.5, lift=2.0), OrderedStatistic(items_base=frozenset({3}), items_add=frozenset({1, 4}), confidence=0.3333333333333333, lift=1.3333333333333333), OrderedStatistic(items_base=frozenset({4}), items_add=frozenset({1, 3}), confidence=1.0, lift=2.0), OrderedStatistic(items_base=frozenset({1, 3}), items_add=frozenset({4}), confidence=0.5, lift=2.0), OrderedStatistic(items_base=frozenset({1, 4}), items_add=frozenset({3}), confidence=1.0, lift=1.3333333333333333), OrderedStatistic(items_base=frozenset({3, 4}), items_add=frozenset({1}), confidence=1.0, lift=2.0)]),\n",
       " RelationRecord(items=frozenset({1, 3, 5}), support=0.25, ordered_statistics=[OrderedStatistic(items_base=frozenset(), items_add=frozenset({1, 3, 5}), confidence=0.25, lift=1.0), OrderedStatistic(items_base=frozenset({1}), items_add=frozenset({3, 5}), confidence=0.5, lift=1.0), OrderedStatistic(items_base=frozenset({3}), items_add=frozenset({1, 5}), confidence=0.3333333333333333, lift=1.3333333333333333), OrderedStatistic(items_base=frozenset({5}), items_add=frozenset({1, 3}), confidence=0.3333333333333333, lift=0.6666666666666666), OrderedStatistic(items_base=frozenset({1, 3}), items_add=frozenset({5}), confidence=0.5, lift=0.6666666666666666), OrderedStatistic(items_base=frozenset({1, 5}), items_add=frozenset({3}), confidence=1.0, lift=1.3333333333333333), OrderedStatistic(items_base=frozenset({3, 5}), items_add=frozenset({1}), confidence=0.5, lift=1.0)]),\n",
       " RelationRecord(items=frozenset({2, 3, 5}), support=0.5, ordered_statistics=[OrderedStatistic(items_base=frozenset(), items_add=frozenset({2, 3, 5}), confidence=0.5, lift=1.0), OrderedStatistic(items_base=frozenset({2}), items_add=frozenset({3, 5}), confidence=0.6666666666666666, lift=1.3333333333333333), OrderedStatistic(items_base=frozenset({3}), items_add=frozenset({2, 5}), confidence=0.6666666666666666, lift=0.8888888888888888), OrderedStatistic(items_base=frozenset({5}), items_add=frozenset({2, 3}), confidence=0.6666666666666666, lift=1.3333333333333333), OrderedStatistic(items_base=frozenset({2, 3}), items_add=frozenset({5}), confidence=1.0, lift=1.3333333333333333), OrderedStatistic(items_base=frozenset({2, 5}), items_add=frozenset({3}), confidence=0.6666666666666666, lift=0.8888888888888888), OrderedStatistic(items_base=frozenset({3, 5}), items_add=frozenset({2}), confidence=1.0, lift=1.3333333333333333)]),\n",
       " RelationRecord(items=frozenset({1, 2, 3, 5}), support=0.25, ordered_statistics=[OrderedStatistic(items_base=frozenset(), items_add=frozenset({1, 2, 3, 5}), confidence=0.25, lift=1.0), OrderedStatistic(items_base=frozenset({1}), items_add=frozenset({2, 3, 5}), confidence=0.5, lift=1.0), OrderedStatistic(items_base=frozenset({2}), items_add=frozenset({1, 3, 5}), confidence=0.3333333333333333, lift=1.3333333333333333), OrderedStatistic(items_base=frozenset({3}), items_add=frozenset({1, 2, 5}), confidence=0.3333333333333333, lift=1.3333333333333333), OrderedStatistic(items_base=frozenset({5}), items_add=frozenset({1, 2, 3}), confidence=0.3333333333333333, lift=1.3333333333333333), OrderedStatistic(items_base=frozenset({1, 2}), items_add=frozenset({3, 5}), confidence=1.0, lift=2.0), OrderedStatistic(items_base=frozenset({1, 3}), items_add=frozenset({2, 5}), confidence=0.5, lift=0.6666666666666666), OrderedStatistic(items_base=frozenset({1, 5}), items_add=frozenset({2, 3}), confidence=1.0, lift=2.0), OrderedStatistic(items_base=frozenset({2, 3}), items_add=frozenset({1, 5}), confidence=0.5, lift=2.0), OrderedStatistic(items_base=frozenset({2, 5}), items_add=frozenset({1, 3}), confidence=0.3333333333333333, lift=0.6666666666666666), OrderedStatistic(items_base=frozenset({3, 5}), items_add=frozenset({1, 2}), confidence=0.5, lift=2.0), OrderedStatistic(items_base=frozenset({1, 2, 3}), items_add=frozenset({5}), confidence=1.0, lift=1.3333333333333333), OrderedStatistic(items_base=frozenset({1, 2, 5}), items_add=frozenset({3}), confidence=1.0, lift=1.3333333333333333), OrderedStatistic(items_base=frozenset({1, 3, 5}), items_add=frozenset({2}), confidence=1.0, lift=1.3333333333333333), OrderedStatistic(items_base=frozenset({2, 3, 5}), items_add=frozenset({1}), confidence=0.5, lift=1.0)])]"
      ]
     },
     "execution_count": 9,
     "metadata": {},
     "output_type": "execute_result"
    }
   ],
   "source": [
    "association_rules"
   ]
  },
  {
   "cell_type": "code",
   "execution_count": 10,
   "metadata": {},
   "outputs": [
    {
     "name": "stdout",
     "output_type": "stream",
     "text": [
      "Rule: [1]\n",
      "support 0.5\n",
      "Rule: [2]\n",
      "support 0.75\n",
      "Rule: [3]\n",
      "support 0.75\n",
      "Rule: [4]\n",
      "support 0.25\n",
      "Rule: [5]\n",
      "support 0.75\n",
      "Rule: [1, 2]\n",
      "support 0.25\n",
      "Rule: [1, 3]\n",
      "support 0.5\n",
      "Rule: [1, 4]\n",
      "support 0.25\n",
      "Rule: [1, 5]\n",
      "support 0.25\n",
      "Rule: [2, 3]\n",
      "support 0.5\n",
      "Rule: [2, 5]\n",
      "support 0.75\n",
      "Rule: [3, 4]\n",
      "support 0.25\n",
      "Rule: [3, 5]\n",
      "support 0.5\n",
      "Rule: [1, 2, 3]\n",
      "support 0.25\n",
      "Rule: [1, 2, 5]\n",
      "support 0.25\n",
      "Rule: [1, 3, 4]\n",
      "support 0.25\n",
      "Rule: [1, 3, 5]\n",
      "support 0.25\n",
      "Rule: [2, 3, 5]\n",
      "support 0.5\n",
      "Rule: [1, 2, 3, 5]\n",
      "support 0.25\n"
     ]
    }
   ],
   "source": [
    "for rule in association_rules:\n",
    "    name_pair = list(rule[0])\n",
    "    print(\"Rule:\", name_pair)\n",
    "    print(\"support\",rule[1])"
   ]
  },
  {
   "cell_type": "code",
   "execution_count": 11,
   "metadata": {},
   "outputs": [
    {
     "data": {
      "text/plain": [
       "[[1, 3, 4], [2, 3, 5], [1, 2, 3, 5], [2, 5]]"
      ]
     },
     "execution_count": 11,
     "metadata": {},
     "output_type": "execute_result"
    }
   ],
   "source": [
    "data = load_dataset()\n",
    "data"
   ]
  },
  {
   "cell_type": "code",
   "execution_count": 12,
   "metadata": {},
   "outputs": [],
   "source": [
    "def create_C1(dataset):\n",
    "    C1=[]\n",
    "    for transaction in dataset:\n",
    "        for item in transaction:\n",
    "            if not [item] in C1:\n",
    "                C1.append([item])\n",
    "    C1.sort()\n",
    "    return list(map(frozenset, C1))"
   ]
  },
  {
   "cell_type": "code",
   "execution_count": 13,
   "metadata": {},
   "outputs": [],
   "source": [
    "min_support = 2"
   ]
  },
  {
   "cell_type": "code",
   "execution_count": 14,
   "metadata": {},
   "outputs": [],
   "source": [
    "def generate_L(D, CK, min_support):\n",
    "    modified_dict={}\n",
    "    for transaction in D:\n",
    "        for grp in CK:\n",
    "            if grp.issubset(transaction):\n",
    "                if not grp in modified_dict:\n",
    "                    modified_dict[grp] = 1\n",
    "                else:\n",
    "                    modified_dict[grp] += 1\n",
    "    #print(\"CK with support:\",modified_dict,\"\\n\")\n",
    "    r_list = []\n",
    "    dict_with_freq = {}\n",
    "    for key in modified_dict:\n",
    "        supp = modified_dict[key]\n",
    "        if supp>= min_support:\n",
    "            r_list.insert(0,key)\n",
    "            dict_with_freq[key] = supp\n",
    "    \n",
    "    return r_list,dict_with_freq\n",
    "                    \n",
    "            "
   ]
  },
  {
   "cell_type": "code",
   "execution_count": 15,
   "metadata": {},
   "outputs": [],
   "source": [
    "D = list(map(set,data))"
   ]
  },
  {
   "cell_type": "code",
   "execution_count": 16,
   "metadata": {},
   "outputs": [],
   "source": [
    "def create_CK(Lk, k):\n",
    "    \n",
    "    retList = []\n",
    "    lenLk = len(Lk)\n",
    "    for i in range(lenLk):\n",
    "        for j in range(i+1, lenLk): \n",
    "            L1 = list(Lk[i])[:k-2]; L2 = list(Lk[j])[:k-2]\n",
    "            L1.sort(); L2.sort()\n",
    "            if L1==L2:\n",
    "                retList.append(Lk[i] | Lk[j])\n",
    "    return retList"
   ]
  },
  {
   "cell_type": "code",
   "execution_count": 17,
   "metadata": {},
   "outputs": [
    {
     "data": {
      "text/plain": [
       "[frozenset({1}),\n",
       " frozenset({2}),\n",
       " frozenset({3}),\n",
       " frozenset({4}),\n",
       " frozenset({5})]"
      ]
     },
     "execution_count": 17,
     "metadata": {},
     "output_type": "execute_result"
    }
   ],
   "source": [
    "C1 = create_C1(data)\n",
    "C1"
   ]
  },
  {
   "cell_type": "code",
   "execution_count": 18,
   "metadata": {},
   "outputs": [
    {
     "name": "stdout",
     "output_type": "stream",
     "text": [
      "{frozenset({1}): 2, frozenset({3}): 3, frozenset({2}): 3, frozenset({5}): 3}\n"
     ]
    }
   ],
   "source": [
    "L1, supp1 = generate_L(D,C1,min_support)\n",
    "print(supp1)"
   ]
  },
  {
   "cell_type": "code",
   "execution_count": 19,
   "metadata": {},
   "outputs": [
    {
     "data": {
      "text/plain": [
       "[frozenset({2, 5}),\n",
       " frozenset({3, 5}),\n",
       " frozenset({1, 5}),\n",
       " frozenset({2, 3}),\n",
       " frozenset({1, 2}),\n",
       " frozenset({1, 3})]"
      ]
     },
     "execution_count": 19,
     "metadata": {},
     "output_type": "execute_result"
    }
   ],
   "source": [
    "C2 = create_CK(L1,2)\n",
    "C2"
   ]
  },
  {
   "cell_type": "code",
   "execution_count": 20,
   "metadata": {},
   "outputs": [
    {
     "name": "stdout",
     "output_type": "stream",
     "text": [
      "{frozenset({1, 3}): 2, frozenset({2, 5}): 3, frozenset({3, 5}): 2, frozenset({2, 3}): 2}\n"
     ]
    }
   ],
   "source": [
    "L2, supp2 = generate_L(D,C2,min_support)\n",
    "print(supp2)"
   ]
  },
  {
   "cell_type": "code",
   "execution_count": 21,
   "metadata": {},
   "outputs": [
    {
     "data": {
      "text/plain": [
       "[frozenset({2, 3, 5})]"
      ]
     },
     "execution_count": 21,
     "metadata": {},
     "output_type": "execute_result"
    }
   ],
   "source": [
    "C3 = create_CK(L2,3)\n",
    "C3"
   ]
  },
  {
   "cell_type": "code",
   "execution_count": 22,
   "metadata": {},
   "outputs": [
    {
     "name": "stdout",
     "output_type": "stream",
     "text": [
      "{frozenset({2, 3, 5}): 2}\n"
     ]
    }
   ],
   "source": [
    "L3, supp3 = generate_L(D,C3,min_support)\n",
    "print(supp3)"
   ]
  },
  {
   "cell_type": "code",
   "execution_count": 23,
   "metadata": {},
   "outputs": [
    {
     "data": {
      "text/plain": [
       "[]"
      ]
     },
     "execution_count": 23,
     "metadata": {},
     "output_type": "execute_result"
    }
   ],
   "source": [
    "C4 = create_CK(L3,4)\n",
    "C4"
   ]
  },
  {
   "cell_type": "code",
   "execution_count": null,
   "metadata": {},
   "outputs": [
    {
     "evalue": "Error: Jupyter server crashed. Unable to connect. \r\nError code from jupyter: 1",
     "output_type": "error"
    }
   ],
   "source": [
    "C1 = create_C1(data)\n",
    "CK = C1\n",
    "i = 2\n",
    "while CK !=[]:\n",
    "    LK,supp = generate_L(D,CK,min_support)\n",
    "    CK = create_CK(LK,i)\n",
    "    i+=1\n",
    "print(LK,\"\\n\",supp)"
   ]
  },
  {
   "cell_type": "code",
   "execution_count": null,
   "metadata": {},
   "outputs": [],
   "source": []
  }
 ],
 "metadata": {
  "kernelspec": {
   "display_name": "Python 3",
   "language": "python",
   "name": "python3"
  },
  "language_info": {
   "codemirror_mode": {
    "name": "ipython",
    "version": 3
   },
   "file_extension": ".py",
   "mimetype": "text/x-python",
   "name": "python",
   "nbconvert_exporter": "python",
   "pygments_lexer": "ipython3",
   "version": "3.6.6"
  }
 },
 "nbformat": 4,
 "nbformat_minor": 1
}